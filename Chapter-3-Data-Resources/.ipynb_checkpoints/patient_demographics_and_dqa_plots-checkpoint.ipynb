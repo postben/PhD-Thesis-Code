{
 "cells": [
  {
   "cell_type": "code",
   "execution_count": 4,
   "metadata": {},
   "outputs": [
    {
     "name": "stdout",
     "output_type": "stream",
     "text": [
      "The autoreload extension is already loaded. To reload it, use:\n",
      "  %reload_ext autoreload\n"
     ]
    }
   ],
   "source": [
    "# VENV TO USE: calplot_env \n",
    "\n",
    "%matplotlib inline\n",
    "\n",
    "import SAIL_python\n",
    "import pandas as pd\n",
    "import numpy as np\n",
    "import matplotlib.pyplot as plt\n",
    "import matplotlib\n",
    "from matplotlib import font_manager as fm\n",
    "# import calplot\n",
    "from matplotlib.gridspec import GridSpec\n",
    "# matplotlib.use('TKagg')\n",
    "import seaborn as sns\n",
    "from tqdm.auto import tqdm\n",
    "tqdm.pandas()\n",
    "import pickle\n",
    "import joblib\n",
    "import warnings\n",
    "import datetime\n",
    "import string\n",
    "\n",
    "%load_ext autoreload\n",
    "%autoreload 2"
   ]
  },
  {
   "cell_type": "code",
   "execution_count": 2,
   "metadata": {},
   "outputs": [],
   "source": [
    "# # DB2 connection - note this is custom function I've made\n",
    "# import connect_db2_bp\n",
    "\n",
    "# conn = connect_db2_bp.connect_db2_bp()\n",
    "import SAIL_python"
   ]
  },
  {
   "cell_type": "markdown",
   "metadata": {},
   "source": [
    "## update 2024-02-23\n",
    "\n",
    "There are now issues when trying to get the SAIL_python package to work in a new environment\n",
    "Note - catplot needs to be installed using pip, as the first package in a new env\n",
    "\n",
    "So, need to use a virtual env that has a working SAIL_python to wrangle and save data, then use a different env with catplot installed\n",
    "\n",
    "So steps needed are:\n",
    "1. use models_tf for data wrangling\n",
    "2. Load caplot_env for plotting "
   ]
  },
  {
   "cell_type": "code",
   "execution_count": 5,
   "metadata": {},
   "outputs": [],
   "source": [
    "# set font params\n",
    "plt.rcParams['font.family'] = 'Arial'\n",
    "font = {'size':16}\n",
    "matplotlib.rc('font', **font)"
   ]
  },
  {
   "cell_type": "code",
   "execution_count": null,
   "metadata": {},
   "outputs": [],
   "source": [
    "%%time\n",
    "\n",
    "# get demographic data for all patients in years 2016-2018\n",
    "\n",
    "demographics = pd.read_sql_query(\n",
    "    f'''\n",
    "    --Identify IDs present only in the years 2016-2018\n",
    "    SELECT DISTINCT a.ALF_PE, b.WOB, b.GNDR_CD FROM \n",
    "    SAIL1323V.WLGP_GP_EVENT_CLEANSED_20210701 a\n",
    "    --Join demographic data \n",
    "    LEFT JOIN(\n",
    "        SELECT ALF_PE, WOB, GNDR_CD \n",
    "        FROM sail1323v.WLGP_PATIENT_ALF_CLEANSED_20210701 wpac \n",
    "    ) b\n",
    "    ON b.ALF_PE = a.ALF_PE\n",
    "    WHERE EVENT_YR >= 2016 \n",
    "    AND EVENT_YR <= 2018\n",
    "    ''', \n",
    "    conn,\n",
    "    dtype={\n",
    "#         'ALF_PE':'int64',\n",
    "        'WOB':'datetime64',\n",
    "#         'GNDR_CD':'category',\n",
    "    }\n",
    "    )\n",
    "# make lowercase\n",
    "demographics.columns = map(str.lower, demographics.columns)\n",
    "\n",
    "# # save raw codes\n",
    "# pickle.dump(cnn_codes_raw, open(f'p:/postb/work/cnns/pkl_dfs/cnn_codes_raw_daily_{study_start}_{study_end}', 'wb'))\n",
    "\n",
    "# cnn_codes_raw"
   ]
  },
  {
   "cell_type": "code",
   "execution_count": null,
   "metadata": {},
   "outputs": [],
   "source": [
    "demographics[demographics.alf_pe.duplicated()].sort_values(by='alf_pe')"
   ]
  },
  {
   "cell_type": "code",
   "execution_count": null,
   "metadata": {},
   "outputs": [],
   "source": [
    "# i think 1900-01-01 is a placeholder value\n",
    "(demographics.wob == '1900-01-01').sum()"
   ]
  },
  {
   "cell_type": "code",
   "execution_count": null,
   "metadata": {},
   "outputs": [],
   "source": [
    "demographics = (\n",
    "    demographics\n",
    "    .assign(study_year = pd.to_datetime('2016-01-01'))\n",
    "    .assign(age = lambda x: np.round((x.study_year - x.wob)/np.timedelta64(1, 'Y'),0))\n",
    "    .assign(age = lambda x: x.age.astype('int'))\n",
    "    .query('age>=0 & age<=120')\n",
    ")\n",
    "demographics\n"
   ]
  },
  {
   "cell_type": "code",
   "execution_count": null,
   "metadata": {
    "scrolled": true
   },
   "outputs": [],
   "source": [
    "sail_demographics = (\n",
    "    pd.DataFrame(\n",
    "    demographics\n",
    "    .age\n",
    "    .value_counts()\n",
    "    )\n",
    "    .reset_index()\n",
    "    .rename(columns={'index':'age','age':'sail_count'})\n",
    "    .sort_values(by='age')\n",
    ")\n",
    "sail_demographics"
   ]
  },
  {
   "cell_type": "code",
   "execution_count": null,
   "metadata": {},
   "outputs": [],
   "source": [
    "# need to replace sail 90 year olds with sum of those >90 as per ONS data\n",
    "sail_total_over_90 = sail_demographics.query('age>=90').sail_count.sum()"
   ]
  },
  {
   "cell_type": "code",
   "execution_count": null,
   "metadata": {},
   "outputs": [],
   "source": [
    "# get official data\n",
    "ons_demo_raw = pd.read_csv('wales_data_only_ons.csv')"
   ]
  },
  {
   "cell_type": "code",
   "execution_count": null,
   "metadata": {},
   "outputs": [],
   "source": [
    "ons_demo =(\n",
    "    pd.DataFrame(\n",
    "    ons_demo_raw\n",
    "    .T\n",
    "    )\n",
    "    .reset_index()\n",
    "    .rename(columns={'index':'age',0:'ons_count'})\n",
    "    .assign(age = lambda x: x.age.astype('int'))\n",
    "    .assign(ons_count = lambda x: x.ons_count.astype('int'))\n",
    ")\n",
    "ons_demo"
   ]
  },
  {
   "cell_type": "code",
   "execution_count": null,
   "metadata": {},
   "outputs": [],
   "source": []
  },
  {
   "cell_type": "code",
   "execution_count": null,
   "metadata": {
    "scrolled": false
   },
   "outputs": [],
   "source": [
    "# merge saild and ONS data\n",
    "joined_demo = ons_demo.merge(sail_demographics, how='left', on='age')\n",
    "joined_demo = pd.melt(joined_demo, id_vars=['age'],value_vars=['ons_count','sail_count'])\n",
    "joined_demo = (\n",
    "    joined_demo.\n",
    "    # rename for plots\n",
    "    assign(variable = lambda x: x.variable.replace({'ons_count':'ONS','sail_count':'SAIL'}))\n",
    "    .sort_values(by='age')\n",
    ")\n",
    "# replace the total number of 90 year olds in sail with the total number of people aged 90 and above (as per ONS)\n",
    "joined_demo.loc[(joined_demo.variable == 'SAIL') & (joined_demo.age==90),'value']  = sail_total_over_90\n",
    "joined_demo"
   ]
  },
  {
   "cell_type": "code",
   "execution_count": null,
   "metadata": {},
   "outputs": [],
   "source": [
    "fig, ax = plt.subplots(1,1, figsize=(15,9))\n",
    "ax = sns.lineplot(\n",
    "    data=joined_demo, x='age', y='value', \n",
    "    hue='variable',\n",
    "    lw = 2,\n",
    "    hue_order = ['SAIL','ONS'],\n",
    "    palette = ['#04ACC4','#043c5c'],\n",
    "    ax=ax\n",
    ")\n",
    "ax.set_xlim(0,110)\n",
    "# add_xticks =  np.append(ax.get_xticks(), np.arange(0,101,10))#[str(label) for label in ax.get_xticks()]\n",
    "# original_labels = \n",
    "# print(add_xticks)\n",
    "# labels_of_interest = [str(i) for i in np.arange(0,101,10)]\n",
    "# new_labels = [label if label in labels_of_interest else '' for label in original_labels]\n",
    "# print(labels_of_interest)\n",
    "# ax.set_xticklabels(add_xticks)\n",
    "ax.set_ylabel('Total Individuals', fontsize=22,color='gray')\n",
    "ax.set_xlabel('Age (years)', fontsize=22,color='gray')\n",
    "ax.tick_params(axis='both',labelsize=18,colors='black')\n",
    "ax.legend(title='Data Source')\n",
    "ax.set_title('Comparison of SAIL Study Population Against ONS Official Statistics',fontsize=25,color='gray')\n",
    "# label >90s\n",
    "ax.text(x=100,y=30000,\n",
    "        s='*People Aged 90\\nand above\\nare counted as\\na single group'\n",
    "        ,ha='center',color='maroon',size=16)\n"
   ]
  },
  {
   "cell_type": "code",
   "execution_count": null,
   "metadata": {},
   "outputs": [],
   "source": []
  },
  {
   "cell_type": "markdown",
   "metadata": {},
   "source": [
    "## Codes per day"
   ]
  },
  {
   "cell_type": "code",
   "execution_count": null,
   "metadata": {},
   "outputs": [],
   "source": [
    "os.getcwd()"
   ]
  },
  {
   "cell_type": "code",
   "execution_count": null,
   "metadata": {},
   "outputs": [],
   "source": [
    "%%time\n",
    "\n",
    "# get demographic data for all patients in years 2016-2018\n",
    "\n",
    "codes_per_day = pd.read_sql_query(\n",
    "    f'''\n",
    "    SELECT \n",
    "    EVENT_DT,\n",
    "    count(*) AS count\n",
    "    FROM SAIL1323V.WLGP_GP_EVENT_CLEANSED_20210701 a\n",
    "    WHERE EVENT_YR >= 2016 AND EVENT_YR <= 2018\n",
    "    GROUP BY EVENT_DT \n",
    "    ''', \n",
    "    conn,\n",
    "    dtype={\n",
    "        'EVENT_DT':'datetime64',\n",
    "        'COUNT':'int32',\n",
    "    }\n",
    "    )\n",
    "# make lowercase\n",
    "codes_per_day.columns = map(str.lower, codes_per_day.columns)\n",
    "# set index\n",
    "codes_per_day = codes_per_day.set_index('event_dt')\n",
    "\n",
    "# save raw codes\n",
    "pickle.dump(codes_per_day, open(f'pkl_dfs/codes_per_day', 'wb'))\n",
    "\n",
    "codes_per_day"
   ]
  },
  {
   "cell_type": "code",
   "execution_count": null,
   "metadata": {
    "scrolled": false
   },
   "outputs": [],
   "source": [
    "fig, axes = calplot.calplot(\n",
    "    codes_per_day.squeeze(),\n",
    "    figsize=(10,5),\n",
    "    cmap = 'plasma',\n",
    "    colorbar = True\n",
    ")\n",
    "for ax in axes:\n",
    "    ax.set_xticklabels(labels = ax.get_xticklabels(),size=14,color='grey')\n",
    "    ax.set_ylabel(ylabel=ax.get_ylabel(),size=20)\n",
    "    ax.set_yticklabels(labels = ax.get_yticklabels(),size=12,color='grey')"
   ]
  },
  {
   "cell_type": "code",
   "execution_count": null,
   "metadata": {},
   "outputs": [],
   "source": []
  },
  {
   "cell_type": "code",
   "execution_count": null,
   "metadata": {},
   "outputs": [],
   "source": []
  }
 ],
 "metadata": {
  "kernelspec": {
   "display_name": "Python 3",
   "language": "python",
   "name": "python3"
  },
  "language_info": {
   "codemirror_mode": {
    "name": "ipython",
    "version": 3
   },
   "file_extension": ".py",
   "mimetype": "text/x-python",
   "name": "python",
   "nbconvert_exporter": "python",
   "pygments_lexer": "ipython3",
   "version": "3.7.3"
  }
 },
 "nbformat": 4,
 "nbformat_minor": 5
}
